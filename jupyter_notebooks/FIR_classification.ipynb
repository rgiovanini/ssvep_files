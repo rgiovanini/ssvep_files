{
 "cells": [
  {
   "cell_type": "markdown",
   "metadata": {},
   "source": [
    "## Using the classificaction methods with features extracted from FIR filtered signals "
   ]
  },
  {
   "cell_type": "code",
   "execution_count": 1,
   "metadata": {
    "collapsed": true
   },
   "outputs": [],
   "source": [
    "#imports\n",
    "import numpy as np\n",
    "import matplotlib.pyplot as plt\n",
    "import scipy.signal as sig\n",
    "from scipy.io import loadmat\n",
    "\n",
    "#matplotlib in separate window\n",
    "%matplotlib qt5"
   ]
  },
  {
   "cell_type": "code",
   "execution_count": 3,
   "metadata": {
    "collapsed": true
   },
   "outputs": [],
   "source": [
    "# carregar sinais e separar data e target\n",
    "eeg = loadmat('/home/renato/Dropbox/Mestrado/final/kolodziej_dataset/dataset_15_canais.mat')\n",
    "data = eeg['data']\n",
    "target = eeg['target'].reshape((data.shape[0])) # mudando a dimensão do shape do vetor target\n",
    "fs = 256.\n",
    "fn = fs / 2.\n",
    "\n",
    "# projetar banco de filtros\n",
    "\n",
    "# aplicar os filtros aos sinais \n",
    "# criar os estimadores\n",
    "# utilizar os sinais filtrados como entrada para os estimadores "
   ]
  },
  {
   "cell_type": "code",
   "execution_count": 4,
   "metadata": {
    "collapsed": true
   },
   "outputs": [
    {
     "ename": "NameError",
     "evalue": "name 'filt' is not defined",
     "output_type": "error",
     "traceback": [
      "\u001b[0;31m---------------------------------------------------------------------------\u001b[0m",
      "\u001b[0;31mNameError\u001b[0m                                 Traceback (most recent call last)",
      "\u001b[0;32m<ipython-input-4-170c06b59e7f>\u001b[0m in \u001b[0;36m<module>\u001b[0;34m()\u001b[0m\n\u001b[1;32m      4\u001b[0m \u001b[0;31m# projetando banco de filtros\u001b[0m\u001b[0;34m\u001b[0m\u001b[0;34m\u001b[0m\u001b[0m\n\u001b[1;32m      5\u001b[0m \u001b[0;31m# filt = sig.firwin(1001, cutoff=freq/fn, window='hamming', pass_zero=False)\u001b[0m\u001b[0;34m\u001b[0m\u001b[0;34m\u001b[0m\u001b[0m\n\u001b[0;32m----> 6\u001b[0;31m \u001b[0mx\u001b[0m  \u001b[0;34m=\u001b[0m \u001b[0msig\u001b[0m\u001b[0;34m.\u001b[0m\u001b[0mfreqz\u001b[0m\u001b[0;34m(\u001b[0m\u001b[0mfilt\u001b[0m\u001b[0;34m)\u001b[0m\u001b[0;34m\u001b[0m\u001b[0m\n\u001b[0m",
      "\u001b[0;31mNameError\u001b[0m: name 'filt' is not defined"
     ]
    }
   ],
   "source": [
    "# sinal de teste\n",
    "test_signal = data[0]\n",
    "freq = np.array([10, 20])\n",
    "# projetando banco de filtros \n",
    "# filt = sig.firwin(1001, cutoff=freq/fn, window='hamming', pass_zero=False)\n",
    "x  = sig.freqz(filt)"
   ]
  },
  {
   "cell_type": "code",
   "execution_count": 5,
   "metadata": {
    "collapsed": true
   },
   "outputs": [],
   "source": [
    "def design_butter_fir(cutoff, fs, order=101, band='pass', window='hamming'):\n",
    "    import numpy as np\n",
    "    import scipy.signal as sig\n",
    "\n",
    "    fs = float(fs)\n",
    "    fnyq = fs / 2\n",
    "    cutoff = np.array(cutoff) / fnyq\n",
    "\n",
    "    if order % 2 == 0:\n",
    "        order = order + 1\n",
    "\n",
    "    if band == 'pass':\n",
    "        pass_zero = False\n",
    "    elif band == 'stop':\n",
    "        pass_zero = True\n",
    "    else:\n",
    "        print('ERROR')\n",
    "\n",
    "    coeff = sig.firwin(order, cutoff, pass_zero=pass_zero, window=window)\n",
    "    freq_vec, imp_vec = sig.freqz(coeff, 1.)\n",
    "\n",
    "    return coeff, freq_vec, imp_vec\n",
    "\n",
    "\n",
    "def generate_harmonics(freq, n_harmonics):\n",
    "    import numpy as np\n",
    "    harmonics = [(i * (j + 1)) for i in freq for j in range(n_harmonics)]\n",
    "    harmonics = np.array(harmonics)\n",
    "\n",
    "    return harmonics.reshape(len(freq), n_harmonics)\n",
    "\n",
    "\n",
    "def generate_band_tolerance(freq, tol):\n",
    "    import numpy as np\n",
    "    freq = np.array(freq)\n",
    "    f1 = freq + tol\n",
    "    f2 = freq - tol\n",
    "    freq_tol = [[f1[i][j], f2[i][j]] for i in range(len(f1[0]) for j in range(len(f2[0])))]\n",
    "\n",
    "    return np.array(freq_tol)\n",
    "\n",
    "\n"
   ]
  },
  {
   "cell_type": "code",
   "execution_count": 6,
   "metadata": {},
   "outputs": [
    {
     "data": {
      "text/plain": [
       "array([  4.8,   5.2,   9.8,  10.2,  14.8,  15.2,  19.8,  20.2])"
      ]
     },
     "execution_count": 6,
     "metadata": {},
     "output_type": "execute_result"
    }
   ],
   "source": [
    "fr = generate_harmonics([5,6,7,8], 4) \n",
    "tol = 0.2\n",
    "freq = np.array(fr)\n",
    "f1 = freq + tol\n",
    "f2 = freq - tol\n",
    "\n",
    "x = [[i-tol, i+tol] for i in fr]\n",
    "y = [x[0][i][j] for j in range(4) for i in range(2)]\n",
    "# [(k,i,j)for k in range(4) for j in range(4) for i in range(2)]\n",
    "y = np.array(y)\n",
    "y"
   ]
  },
  {
   "cell_type": "code",
   "execution_count": 7,
   "metadata": {},
   "outputs": [
    {
     "name": "stdout",
     "output_type": "stream",
     "text": [
      "4\n"
     ]
    },
    {
     "data": {
      "text/plain": [
       "array([  7.8,   8.2,  15.8,  16.2,  23.8,  24.2,  31.8,  32.2])"
      ]
     },
     "execution_count": 7,
     "metadata": {},
     "output_type": "execute_result"
    }
   ],
   "source": [
    "t = generate_harmonics([5,6,7,8], 4)\n",
    "print(len(t))\n",
    "\n",
    "x = [[i-tol, i+tol] for i in t]\n",
    "for m in range(len(t)):\n",
    "    y = [x[m][i][j] for j in range(4) for i in range(2)]\n",
    "    \n",
    "y = np.array(y)\n",
    "y"
   ]
  },
  {
   "cell_type": "code",
   "execution_count": 8,
   "metadata": {},
   "outputs": [
    {
     "data": {
      "text/plain": [
       "array([  4.8,   5.2,   9.8,  10.2,  14.8,  15.2,  19.8,  20.2])"
      ]
     },
     "execution_count": 8,
     "metadata": {},
     "output_type": "execute_result"
    }
   ],
   "source": [
    "x = fr[0] \n",
    "tol = .2\n",
    "fs = 256.\n",
    "fn = fs / 2\n",
    "z = np.hstack(np.array([[x[i]-tol, x[i]+tol] for i in range(len(x))]))\n",
    "\n",
    "y = design_butter_fir(order=401, cutoff=z, fs=256.)\n",
    "# plt.plot((fn/np.pi)*y[1],20*np.log10(np.abs(y[2])))\n",
    "z"
   ]
  },
  {
   "cell_type": "code",
   "execution_count": 10,
   "metadata": {},
   "outputs": [
    {
     "ename": "TypeError",
     "evalue": "'generator' object cannot be interpreted as an integer",
     "output_type": "error",
     "traceback": [
      "\u001b[0;31m---------------------------------------------------------------------------\u001b[0m",
      "\u001b[0;31mTypeError\u001b[0m                                 Traceback (most recent call last)",
      "\u001b[0;32m<ipython-input-10-d4dee728f370>\u001b[0m in \u001b[0;36m<module>\u001b[0;34m()\u001b[0m\n\u001b[1;32m      1\u001b[0m \u001b[0mfreq\u001b[0m \u001b[0;34m=\u001b[0m \u001b[0mgenerate_harmonics\u001b[0m\u001b[0;34m(\u001b[0m\u001b[0;34m[\u001b[0m\u001b[0;36m5\u001b[0m\u001b[0;34m,\u001b[0m\u001b[0;36m6\u001b[0m\u001b[0;34m,\u001b[0m\u001b[0;36m7\u001b[0m\u001b[0;34m,\u001b[0m\u001b[0;36m8\u001b[0m\u001b[0;34m]\u001b[0m\u001b[0;34m,\u001b[0m\u001b[0;36m4\u001b[0m\u001b[0;34m)\u001b[0m\u001b[0;34m\u001b[0m\u001b[0m\n\u001b[0;32m----> 2\u001b[0;31m \u001b[0mgenerate_band_tolerance\u001b[0m\u001b[0;34m(\u001b[0m\u001b[0mfreq\u001b[0m\u001b[0;34m,\u001b[0m \u001b[0;36m0.3\u001b[0m\u001b[0;34m)\u001b[0m\u001b[0;34m\u001b[0m\u001b[0m\n\u001b[0m",
      "\u001b[0;32m<ipython-input-5-fb96157914f7>\u001b[0m in \u001b[0;36mgenerate_band_tolerance\u001b[0;34m(freq, tol)\u001b[0m\n\u001b[1;32m     36\u001b[0m     \u001b[0mf1\u001b[0m \u001b[0;34m=\u001b[0m \u001b[0mfreq\u001b[0m \u001b[0;34m+\u001b[0m \u001b[0mtol\u001b[0m\u001b[0;34m\u001b[0m\u001b[0m\n\u001b[1;32m     37\u001b[0m     \u001b[0mf2\u001b[0m \u001b[0;34m=\u001b[0m \u001b[0mfreq\u001b[0m \u001b[0;34m-\u001b[0m \u001b[0mtol\u001b[0m\u001b[0;34m\u001b[0m\u001b[0m\n\u001b[0;32m---> 38\u001b[0;31m     \u001b[0mfreq_tol\u001b[0m \u001b[0;34m=\u001b[0m \u001b[0;34m[\u001b[0m\u001b[0;34m[\u001b[0m\u001b[0mf1\u001b[0m\u001b[0;34m[\u001b[0m\u001b[0mi\u001b[0m\u001b[0;34m]\u001b[0m\u001b[0;34m[\u001b[0m\u001b[0mj\u001b[0m\u001b[0;34m]\u001b[0m\u001b[0;34m,\u001b[0m \u001b[0mf2\u001b[0m\u001b[0;34m[\u001b[0m\u001b[0mi\u001b[0m\u001b[0;34m]\u001b[0m\u001b[0;34m[\u001b[0m\u001b[0mj\u001b[0m\u001b[0;34m]\u001b[0m\u001b[0;34m]\u001b[0m \u001b[0;32mfor\u001b[0m \u001b[0mi\u001b[0m \u001b[0;32min\u001b[0m \u001b[0mrange\u001b[0m\u001b[0;34m(\u001b[0m\u001b[0mlen\u001b[0m\u001b[0;34m(\u001b[0m\u001b[0mf1\u001b[0m\u001b[0;34m[\u001b[0m\u001b[0;36m0\u001b[0m\u001b[0;34m]\u001b[0m\u001b[0;34m)\u001b[0m \u001b[0;32mfor\u001b[0m \u001b[0mj\u001b[0m \u001b[0;32min\u001b[0m \u001b[0mrange\u001b[0m\u001b[0;34m(\u001b[0m\u001b[0mlen\u001b[0m\u001b[0;34m(\u001b[0m\u001b[0mf2\u001b[0m\u001b[0;34m[\u001b[0m\u001b[0;36m0\u001b[0m\u001b[0;34m]\u001b[0m\u001b[0;34m)\u001b[0m\u001b[0;34m)\u001b[0m\u001b[0;34m)\u001b[0m\u001b[0;34m]\u001b[0m\u001b[0;34m\u001b[0m\u001b[0m\n\u001b[0m\u001b[1;32m     39\u001b[0m \u001b[0;34m\u001b[0m\u001b[0m\n\u001b[1;32m     40\u001b[0m     \u001b[0;32mreturn\u001b[0m \u001b[0mnp\u001b[0m\u001b[0;34m.\u001b[0m\u001b[0marray\u001b[0m\u001b[0;34m(\u001b[0m\u001b[0mfreq_tol\u001b[0m\u001b[0;34m)\u001b[0m\u001b[0;34m\u001b[0m\u001b[0m\n",
      "\u001b[0;31mTypeError\u001b[0m: 'generator' object cannot be interpreted as an integer"
     ]
    }
   ],
   "source": [
    "freq = generate_harmonics([5,6,7,8],4)\n",
    "generate_band_tolerance(freq, 0.3)"
   ]
  }
 ],
 "metadata": {
  "kernelspec": {
   "display_name": "Python 3",
   "language": "python",
   "name": "python3"
  },
  "language_info": {
   "codemirror_mode": {
    "name": "ipython",
    "version": 3
   },
   "file_extension": ".py",
   "mimetype": "text/x-python",
   "name": "python",
   "nbconvert_exporter": "python",
   "pygments_lexer": "ipython3",
   "version": "3.6.1"
  }
 },
 "nbformat": 4,
 "nbformat_minor": 2
}
