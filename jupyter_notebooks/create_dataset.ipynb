{
 "cells": [
  {
   "cell_type": "markdown",
   "metadata": {},
   "source": [
    "## Criação do objeto dataset_kolodziej.mat"
   ]
  },
  {
   "cell_type": "markdown",
   "metadata": {},
   "source": [
    "Este script cria o objeto dataset_kolodziej.mat com base na lista de canais de interesse fornecida pelo usuário.\n",
    "O objeto é criado na forma de um dicionário, e é salvo no formato .mat. "
   ]
  },
  {
   "cell_type": "code",
   "execution_count": 1,
   "metadata": {
    "collapsed": true
   },
   "outputs": [],
   "source": [
    "def create_dataset(lista_canais, save_path):\n",
    "    '''\n",
    "    Cria um objeto do tipo dicionário contendo os canais de interesse do dataset, informados pelo usuário. \n",
    "    O dict contém as seguintes keys: \n",
    "    'data': array de shape (n,7680), onde n = len(lista_canais).\n",
    "    'target': array contendo as classes correspondentes a cada frequência de estimulação.\n",
    "    'fs': frequência de amostragem utilizada nos testes (256 Hz).\n",
    "    \n",
    "    Parâmetros de entrada: \n",
    "    lista_canais: lista de canais de interesse, disponíveis nos arquivos originais do dataset. \n",
    "    save_path: caminho onde o objeto será salvo.\n",
    "    \n",
    "    Retorna: \n",
    "    Objeto de tipo dict salvo no local especificado por save_path.\n",
    "    '''\n",
    "    import numpy as np \n",
    "    from scipy.io import loadmat, savemat\n",
    "\n",
    "    # carregando os canais de interesse dos arquivos .mat e gerando o array\n",
    "    n_canais = len(lista_canais)\n",
    "    path = '/home/renato/Dropbox/Mestrado/final/kolodziej_dataset/all_data/S{}_{}Hz.mat'\n",
    "    data = [np.transpose(loadmat(path.format(i,j))['X'])[lista_canais] \n",
    "                for j in range(5,9) for i in range(1,6)]\n",
    "    data = np.vstack(data)\n",
    "\n",
    "    # criando o array de targets \n",
    "    target = [np.full(n_canais*5, i, dtype='int64') for i in range(5,9)]\n",
    "    target = np.hstack((target[0], target[1], target[2], target[3]))\n",
    "    # salvando o dataset\n",
    "    dataset_dict = {'data': data,\n",
    "                   'target': target,\n",
    "                   'fs': 256.}\n",
    "    return savemat(save_path, dataset_dict)\n",
    "\n",
    "# Exemplo de utilização \n",
    "lista_canais = list(range(15))#[0,3,4,9,10,11,12,13,14,15]\n",
    "save_path = '/home/renato/Dropbox/Mestrado/final/kolodziej_dataset/dataset_{}_canais.mat'.format(len(lista_canais))\n",
    "\n",
    "create_dataset(lista_canais=lista_canais, save_path=save_path)"
   ]
  }
 ],
 "metadata": {
  "kernelspec": {
   "display_name": "Python 3",
   "language": "python",
   "name": "python3"
  },
  "language_info": {
   "codemirror_mode": {
    "name": "ipython",
    "version": 3
   },
   "file_extension": ".py",
   "mimetype": "text/x-python",
   "name": "python",
   "nbconvert_exporter": "python",
   "pygments_lexer": "ipython3",
   "version": "3.6.0"
  }
 },
 "nbformat": 4,
 "nbformat_minor": 2
}
