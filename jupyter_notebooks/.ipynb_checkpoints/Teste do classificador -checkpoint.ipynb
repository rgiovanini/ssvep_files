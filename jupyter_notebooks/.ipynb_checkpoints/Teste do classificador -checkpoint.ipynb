{
 "cells": [
  {
   "cell_type": "markdown",
   "metadata": {},
   "source": [
    "## Teste do sistema de classificação "
   ]
  },
  {
   "cell_type": "code",
   "execution_count": 2,
   "metadata": {
    "collapsed": true
   },
   "outputs": [],
   "source": [
    "import numpy as np\n",
    "import matplotlib.pyplot as plt\n",
    "from scipy.io import loadmat\n",
    "%matplotlib qt5"
   ]
  },
  {
   "cell_type": "code",
   "execution_count": 83,
   "metadata": {
    "collapsed": false
   },
   "outputs": [],
   "source": [
    "# carregando o arquivo contendo o dataset\n",
    "data = loadmat('/media/renato/Dados/Mestrado/SSVEP-Datasets/Kolodziej/dataset_kolodziej.mat')\n",
    "eeg_data = data['data']\n",
    "target = data['label']\n",
    "\n",
    "# whitening dos dados (testar acuracia com e sem isso)\n",
    "from sklearn import preprocessing\n",
    "\n",
    "eeg1 = preprocessing.scale(eeg_data)\n",
    "eeg2 = np.array([preprocessing.scale(eeg_data[k]) for k in range(eeg_data.shape[0])])\n",
    "\n",
    "eeg = [eeg_data, eeg1, eeg2]\n",
    "\n",
    "# Tenho 3 vetores de instancias: sem whitening, com whitening pela media de todo o array e das instancias separadas (eeg, eeg1, eeg2)\n",
    "# gerando quais as features a serem analisadas\n",
    "features_to_use = [\"amplitude\",\n",
    "                   \"percent_beyond_1_std\",\n",
    "                   \"maximum\",\n",
    "                   \"max_slope\",\n",
    "                   \"median\",\n",
    "                   \"median_absolute_deviation\",\n",
    "                   \"percent_close_to_median\",\n",
    "                   \"minimum\",\n",
    "                   \"skew\",\n",
    "                   \"std\",\n",
    "                   \"weighted_average\"]\n",
    "\n",
    "# decomposição em sub-bandas utilizando a transformada Wavelet discreta\n",
    "import pywt\n",
    "from cesium import featurize\n",
    "\n",
    "n_bands = 5\n",
    "dwt_values=[]\n",
    "fset_dwt=[]\n",
    "for i in range(3):\n",
    "    dwt_values.append(pywt.wavedec(eeg[i], pywt.Wavelet('db6'), level=n_bands-1))\n",
    "    fset_dwt.append(featurize.featurize_time_series(times=None, values=dwt_values[i], errors=None, \n",
    "                                            features_to_use=features_to_use))\n",
    "\n",
    "# tenho uma lista de dwts para os 3 casos (dwt_values) e uma lista com as respectivas features (fset_dwt)\n",
    "\n"
   ]
  },
  {
   "cell_type": "markdown",
   "metadata": {
    "collapsed": false
   },
   "source": [
    "## Classificação "
   ]
  },
  {
   "cell_type": "code",
   "execution_count": 93,
   "metadata": {
    "collapsed": false
   },
   "outputs": [
    {
     "data": {
      "text/plain": [
       "3520"
      ]
     },
     "execution_count": 93,
     "metadata": {},
     "output_type": "execute_result"
    }
   ],
   "source": [
    "train, test\n",
    "\n",
    "# Random Forest \n",
    "from sklearn.ensemble import RandomForestClassifier\n"
   ]
  }
 ],
 "metadata": {
  "kernelspec": {
   "display_name": "Python 3",
   "language": "python",
   "name": "python3"
  },
  "language_info": {
   "codemirror_mode": {
    "name": "ipython",
    "version": 3
   },
   "file_extension": ".py",
   "mimetype": "text/x-python",
   "name": "python",
   "nbconvert_exporter": "python",
   "pygments_lexer": "ipython3",
   "version": "3.6.0"
  }
 },
 "nbformat": 4,
 "nbformat_minor": 2
}
