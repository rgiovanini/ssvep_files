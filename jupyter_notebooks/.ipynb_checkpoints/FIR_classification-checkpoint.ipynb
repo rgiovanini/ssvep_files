{
 "cells": [
  {
   "cell_type": "markdown",
   "metadata": {},
   "source": [
    "## Using the classificaction methods with features extracted from FIR filtered signals "
   ]
  },
  {
   "cell_type": "code",
   "execution_count": 1,
   "metadata": {
    "collapsed": true
   },
   "outputs": [],
   "source": [
    "import numpy as np\n",
    "import matplotlib.pyplot as plt\n",
    "import scipy.signal as sig\n",
    "from scipy.io import loadmat"
   ]
  },
  {
   "cell_type": "code",
   "execution_count": 17,
   "metadata": {
    "collapsed": true
   },
   "outputs": [],
   "source": [
    "# carregar sinais e separar data e target\n",
    "eeg = loadmat('/home/renato/Dropbox/Mestrado/final/kolodziej_dataset/dataset_15_canais.mat')\n",
    "data = eeg['data']\n",
    "target = eeg['target'].reshape((data.shape[0])) # mudando a dimensão do shape do vetor target\n",
    "\n",
    "# projetar os bancos de filtros FIR\n",
    "def design_fir_butter(cutoff, f_sampl, order=101, band='pass'):\n",
    "    '''Design a butterworth filter with specified order. If the order is not\n",
    "    specified, the value is 101. The band parameter options is 'pass' and 'stop'\n",
    "    '''\n",
    "    f_sampl = float(f_sampl)\n",
    "    f_nyq = f_sampl / 2                   # Nyquist frequency\n",
    "    cutoff = np.array(cutoff) / f_nyq     # Normalizing the cutoff frequency vector\n",
    "    if order % 2 == 0:                    # ensures that the order is odd\n",
    "        order = order + 1\n",
    "\n",
    "    if band == 'pass':                    # defines DC gain (see signal.firwin\n",
    "        pass_zero = False                 # documentation for details)\n",
    "    elif band == 'stop':\n",
    "        pass_zero = True\n",
    "    else:\n",
    "        print('ERROR: argument', band, 'not known')\n",
    "    coeff = sig.firwin(order, cutoff, pass_zero=pass_zero, window='hamming')\n",
    "\n",
    "    freq_vec, imp_vec = sig.freqz(coeff, 1.)  # Frequency response of the filter\n",
    "\n",
    "    return coeff, freq_vec, imp_vec\n",
    "\n",
    "def apply_fir_filter(coeff, input_array, axis):\n",
    "    '''Apply filter coefficients to an input array. It is mathematically\n",
    "    equivalent to make a convolution sum between the two systems.\n",
    "    '''\n",
    "    return sig.lfilter(coeff, 1., input_array, axis=axis)\n",
    "\n",
    "def generate_band_tolerance(freq, tol):\n",
    "    '''generates an array with the right cutoff frequencies for a bandpass or\n",
    "    band reject filter, based on the desired tolerancy.\n",
    "    '''\n",
    "    freq = np.array(freq)\n",
    "    f1 = freq - tol\n",
    "    f2 = freq + tol\n",
    "    freq_tol = []\n",
    "    for i in range(len(f1[0])):\n",
    "        for j in range(len(f2[0])):\n",
    "            freq_tol.append([f1[i][j], f2[i][j]])\n",
    "    return np.array(freq_tol)\n",
    "   # return np.transpose(np.array([freq-tol, freq+tol])).reshape(2*len(freq))\n",
    "\n",
    "\n",
    "def generate_harmonics(input_freq, number_of_harmonics):\n",
    "    '''Generate the desired harmonics based on the specified number\n",
    "    '''\n",
    "    harmonics = []\n",
    "    for i in input_freq:\n",
    "        for j in range(number_of_harmonics):\n",
    "            harmonics.append(i*(j+1))\n",
    "    harmonics = np.array(harmonics)\n",
    "    return harmonics.reshape(len(input_freq), number_of_harmonics)\n",
    "\n",
    "# aplicar os filtros aos sinais \n",
    "# criar os estimadores\n",
    "# utilizar os sinais filtrados como entrada para os estimadores "
   ]
  },
  {
   "cell_type": "code",
   "execution_count": 34,
   "metadata": {},
   "outputs": [
    {
     "data": {
      "text/plain": [
       "array([ 5, 10, 15, 20,  6, 12, 18, 24,  7, 14, 21, 28,  8, 16, 24, 32])"
      ]
     },
     "execution_count": 34,
     "metadata": {},
     "output_type": "execute_result"
    }
   ],
   "source": [
    "freq_array = generate_harmonics([5, 6, 7, 8], 4)\n",
    "x = freq_array.reshape((16,))\n",
    "x"
   ]
  },
  {
   "cell_type": "code",
   "execution_count": 32,
   "metadata": {},
   "outputs": [
    {
     "data": {
      "text/plain": [
       "array([[  4.9,   5.1],\n",
       "       [  9.9,  10.1],\n",
       "       [ 14.9,  15.1],\n",
       "       [ 19.9,  20.1],\n",
       "       [  5.9,   6.1],\n",
       "       [ 11.9,  12.1],\n",
       "       [ 17.9,  18.1],\n",
       "       [ 23.9,  24.1],\n",
       "       [  6.9,   7.1],\n",
       "       [ 13.9,  14.1],\n",
       "       [ 20.9,  21.1],\n",
       "       [ 27.9,  28.1],\n",
       "       [  7.9,   8.1],\n",
       "       [ 15.9,  16.1],\n",
       "       [ 23.9,  24.1],\n",
       "       [ 31.9,  32.1]])"
      ]
     },
     "execution_count": 32,
     "metadata": {},
     "output_type": "execute_result"
    }
   ],
   "source": [
    "y = []\n",
    "for i in x:\n",
    "    y.append(i-0.1)"
   ]
  },
  {
   "cell_type": "code",
   "execution_count": 47,
   "metadata": {},
   "outputs": [
    {
     "data": {
      "text/plain": [
       "['x', 1, 'y', 2, 'z', 3, 4, 5]"
      ]
     },
     "execution_count": 47,
     "metadata": {},
     "output_type": "execute_result"
    }
   ],
   "source": [
    "a = [1,2,3,4,5]\n",
    "b=[]\n",
    "a.insert(0,'x')\n",
    "a.insert(2,'y')\n",
    "a.insert(4,'z')\n",
    "a"
   ]
  }
 ],
 "metadata": {
  "kernelspec": {
   "display_name": "Python 3",
   "language": "python",
   "name": "python3"
  },
  "language_info": {
   "codemirror_mode": {
    "name": "ipython",
    "version": 3
   },
   "file_extension": ".py",
   "mimetype": "text/x-python",
   "name": "python",
   "nbconvert_exporter": "python",
   "pygments_lexer": "ipython3",
   "version": "3.6.1"
  }
 },
 "nbformat": 4,
 "nbformat_minor": 2
}
