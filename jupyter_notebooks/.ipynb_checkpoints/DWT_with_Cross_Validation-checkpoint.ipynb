{
 "cells": [
  {
   "cell_type": "markdown",
   "metadata": {},
   "source": [
    "## Classificação usando DWT e efetuando o K-fold Cross Validation"
   ]
  },
  {
   "cell_type": "markdown",
   "metadata": {},
   "source": [
    "Este script é semelhante ao classificacao_undersampling.py. Nesse caso, porém, foi aplicado o método K-Fold\n",
    "de Cross Validation para a validação do estimador."
   ]
  },
  {
   "cell_type": "code",
   "execution_count": 14,
   "metadata": {
    "collapsed": false
   },
   "outputs": [
    {
     "name": "stdout",
     "output_type": "stream",
     "text": [
      "Test 3 - Accuracy after Cross Validation: 100.00% +/- 0.00%\n"
     ]
    }
   ],
   "source": [
    "# Aplicação de cross validation no sistema de classificação\n",
    "import numpy as np\n",
    "from scipy.io import loadmat\n",
    "\n",
    "# eeg = loadmat('/home/renato/Dropbox/Mestrado/final/'\n",
    "#               'kolodziej_dataset/dataset_7_canais.mat')\n",
    "\n",
    "# carregando os canais de interesse dos arquivos .mat e gerando o array\n",
    "lista_canais = list(range(15))\n",
    "n_canais = len(lista_canais)\n",
    "path = '/home/renato/Dropbox/Mestrado/final/kolodziej_dataset/all_data/S{}_{}Hz.mat'\n",
    "data = [np.transpose(loadmat(path.format(i, j))['X'])[lista_canais]\n",
    "        for j in range(5, 9) for i in range(1, 6)]\n",
    "data = np.vstack(data)\n",
    "\n",
    "# criando o array de targets\n",
    "target = [np.full(n_canais * 5, i, dtype='int64') for i in range(5, 9)]\n",
    "target = np.hstack((target[0], target[1], target[2], target[3]))\n",
    "\n",
    "# data = eeg['data']\n",
    "# target = eeg['target']\n",
    "# target = target.reshape(target.shape[1])\n",
    "\n",
    "from sklearn.preprocessing import scale\n",
    "\n",
    "data_scaled = np.array([scale(data[i]) for i in range(len(data))])\n",
    "\n",
    "import pywt\n",
    "\n",
    "# decompondo em sub-bandas usando a DWT e wavelet db12 e tomando\n",
    "# apenas as aproximações\n",
    "n_levels = 2\n",
    "data_scaled_dwt = [pywt.wavedec(data_scaled[i], pywt.Wavelet('db12'),\n",
    "                   level=n_levels)[0] for i in range(len(data_scaled))]\n",
    "data_scaled_dwt = np.vstack(data_scaled_dwt)\n",
    "\n",
    "from sklearn.model_selection import cross_val_score\n",
    "from sklearn.ensemble import RandomForestClassifier\n",
    "\n",
    "clf_RF = RandomForestClassifier(n_estimators=800, max_features='auto',\n",
    "                                    n_jobs=-1, bootstrap=True,\n",
    "                                    warm_start=0, oob_score=True)\n",
    "\n",
    "CV_score = cross_val_score(clf_RF, data, target, cv=6, n_jobs=2)\n",
    "print(\"Test {} - Accuracy after Cross Validation: {:.2%} +/- {:.2%}\".format(\n",
    "      i, CV_score.mean(), CV_score.std()))"
   ]
  },
  {
   "cell_type": "code",
   "execution_count": 18,
   "metadata": {
    "collapsed": false
   },
   "outputs": [],
   "source": [
    "x = loadmat('/home/renato/Dropbox/Mestrado/final/kolodziej_dataset/dataset_15_canais.mat')"
   ]
  },
  {
   "cell_type": "code",
   "execution_count": 26,
   "metadata": {
    "collapsed": false
   },
   "outputs": [
    {
     "data": {
      "text/plain": [
       "(300,)"
      ]
     },
     "execution_count": 26,
     "metadata": {},
     "output_type": "execute_result"
    }
   ],
   "source": [
    "x['target'].reshape(x['target'].shape[1]).shape"
   ]
  },
  {
   "cell_type": "code",
   "execution_count": 23,
   "metadata": {
    "collapsed": false
   },
   "outputs": [
    {
     "data": {
      "text/plain": [
       "300"
      ]
     },
     "execution_count": 23,
     "metadata": {},
     "output_type": "execute_result"
    }
   ],
   "source": [
    "5*15*4"
   ]
  }
 ],
 "metadata": {
  "kernelspec": {
   "display_name": "Python 3",
   "language": "python",
   "name": "python3"
  },
  "language_info": {
   "codemirror_mode": {
    "name": "ipython",
    "version": 3
   },
   "file_extension": ".py",
   "mimetype": "text/x-python",
   "name": "python",
   "nbconvert_exporter": "python",
   "pygments_lexer": "ipython3",
   "version": "3.6.0"
  }
 },
 "nbformat": 4,
 "nbformat_minor": 2
}
