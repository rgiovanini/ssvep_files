{
 "cells": [
  {
   "cell_type": "markdown",
   "metadata": {},
   "source": [
    "## Classificação usando DWT e efetuando o K-fold Cross Validation"
   ]
  },
  {
   "cell_type": "markdown",
   "metadata": {},
   "source": [
    "Este script é semelhante ao classificacao_undersampling.py. Nesse caso, porém, foi aplicado o método K-Fold\n",
    "de Cross Validation para a validação do estimador."
   ]
  },
  {
   "cell_type": "code",
   "execution_count": 28,
   "metadata": {
    "collapsed": false
   },
   "outputs": [
    {
     "name": "stdout",
     "output_type": "stream",
     "text": [
      "Wavelet transform features using RF: training accuracy=100.00%,test accuracy=100.00%\n",
      "Wavelet transform features using RF: training accuracy=100.00%,test accuracy=100.00%\n",
      "Wavelet transform features using RF: training accuracy=100.00%,test accuracy=100.00%\n",
      "Wavelet transform features using RF: training accuracy=100.00%,test accuracy=100.00%\n",
      "Wavelet transform features using RF: training accuracy=100.00%,test accuracy=100.00%\n",
      "Wavelet transform features using RF: training accuracy=100.00%,test accuracy=100.00%\n",
      "Wavelet transform features using RF: training accuracy=100.00%,test accuracy=98.67%\n",
      "Wavelet transform features using RF: training accuracy=100.00%,test accuracy=98.67%\n",
      "Wavelet transform features using RF: training accuracy=100.00%,test accuracy=94.67%\n"
     ]
    },
    {
     "ename": "ValueError",
     "evalue": "Level value of 9 is too high.  Maximum allowed is 8.",
     "output_type": "error",
     "traceback": [
      "\u001b[0;31m---------------------------------------------------------------------------\u001b[0m",
      "\u001b[0;31mValueError\u001b[0m                                Traceback (most recent call last)",
      "\u001b[0;32m<ipython-input-28-8b904b7d82ff>\u001b[0m in \u001b[0;36m<module>\u001b[0;34m()\u001b[0m\n\u001b[1;32m     41\u001b[0m     \u001b[0mn_levels\u001b[0m \u001b[0;34m=\u001b[0m \u001b[0mk\u001b[0m\u001b[0;34m\u001b[0m\u001b[0m\n\u001b[1;32m     42\u001b[0m     data_scaled_dwt = [pywt.wavedec(data_scaled[i], pywt.Wavelet('db12'),\n\u001b[0;32m---> 43\u001b[0;31m                    level=n_levels)[0] for i in range(len(data_scaled))]\n\u001b[0m\u001b[1;32m     44\u001b[0m     \u001b[0mdata_scaled_dwt\u001b[0m \u001b[0;34m=\u001b[0m \u001b[0mnp\u001b[0m\u001b[0;34m.\u001b[0m\u001b[0mvstack\u001b[0m\u001b[0;34m(\u001b[0m\u001b[0mdata_scaled_dwt\u001b[0m\u001b[0;34m)\u001b[0m\u001b[0;34m\u001b[0m\u001b[0m\n\u001b[1;32m     45\u001b[0m \u001b[0;34m\u001b[0m\u001b[0m\n",
      "\u001b[0;32m<ipython-input-28-8b904b7d82ff>\u001b[0m in \u001b[0;36m<listcomp>\u001b[0;34m(.0)\u001b[0m\n\u001b[1;32m     41\u001b[0m     \u001b[0mn_levels\u001b[0m \u001b[0;34m=\u001b[0m \u001b[0mk\u001b[0m\u001b[0;34m\u001b[0m\u001b[0m\n\u001b[1;32m     42\u001b[0m     data_scaled_dwt = [pywt.wavedec(data_scaled[i], pywt.Wavelet('db12'),\n\u001b[0;32m---> 43\u001b[0;31m                    level=n_levels)[0] for i in range(len(data_scaled))]\n\u001b[0m\u001b[1;32m     44\u001b[0m     \u001b[0mdata_scaled_dwt\u001b[0m \u001b[0;34m=\u001b[0m \u001b[0mnp\u001b[0m\u001b[0;34m.\u001b[0m\u001b[0mvstack\u001b[0m\u001b[0;34m(\u001b[0m\u001b[0mdata_scaled_dwt\u001b[0m\u001b[0;34m)\u001b[0m\u001b[0;34m\u001b[0m\u001b[0m\n\u001b[1;32m     45\u001b[0m \u001b[0;34m\u001b[0m\u001b[0m\n",
      "\u001b[0;32m/home/renato/anaconda3/lib/python3.6/site-packages/PyWavelets-1.0.0.dev0+dd7b793-py3.6-linux-x86_64.egg/pywt/_multilevel.py\u001b[0m in \u001b[0;36mwavedec\u001b[0;34m(data, wavelet, mode, level, axis)\u001b[0m\n\u001b[1;32m     92\u001b[0m     \u001b[0;32mexcept\u001b[0m \u001b[0mIndexError\u001b[0m\u001b[0;34m:\u001b[0m\u001b[0;34m\u001b[0m\u001b[0m\n\u001b[1;32m     93\u001b[0m         \u001b[0;32mraise\u001b[0m \u001b[0mValueError\u001b[0m\u001b[0;34m(\u001b[0m\u001b[0;34m\"Axis greater than data dimensions\"\u001b[0m\u001b[0;34m)\u001b[0m\u001b[0;34m\u001b[0m\u001b[0m\n\u001b[0;32m---> 94\u001b[0;31m     \u001b[0mlevel\u001b[0m \u001b[0;34m=\u001b[0m \u001b[0m_check_level\u001b[0m\u001b[0;34m(\u001b[0m\u001b[0maxes_shape\u001b[0m\u001b[0;34m,\u001b[0m \u001b[0mwavelet\u001b[0m\u001b[0;34m.\u001b[0m\u001b[0mdec_len\u001b[0m\u001b[0;34m,\u001b[0m \u001b[0mlevel\u001b[0m\u001b[0;34m)\u001b[0m\u001b[0;34m\u001b[0m\u001b[0m\n\u001b[0m\u001b[1;32m     95\u001b[0m \u001b[0;34m\u001b[0m\u001b[0m\n\u001b[1;32m     96\u001b[0m     \u001b[0mcoeffs_list\u001b[0m \u001b[0;34m=\u001b[0m \u001b[0;34m[\u001b[0m\u001b[0;34m]\u001b[0m\u001b[0;34m\u001b[0m\u001b[0m\n",
      "\u001b[0;32m/home/renato/anaconda3/lib/python3.6/site-packages/PyWavelets-1.0.0.dev0+dd7b793-py3.6-linux-x86_64.egg/pywt/_multilevel.py\u001b[0m in \u001b[0;36m_check_level\u001b[0;34m(size, dec_len, level)\u001b[0m\n\u001b[1;32m     39\u001b[0m             raise ValueError(\n\u001b[1;32m     40\u001b[0m                 \"Level value of %d is too high.  Maximum allowed is %d.\" % (\n\u001b[0;32m---> 41\u001b[0;31m                     level, max_level))\n\u001b[0m\u001b[1;32m     42\u001b[0m     \u001b[0;32mreturn\u001b[0m \u001b[0mlevel\u001b[0m\u001b[0;34m\u001b[0m\u001b[0m\n\u001b[1;32m     43\u001b[0m \u001b[0;34m\u001b[0m\u001b[0m\n",
      "\u001b[0;31mValueError\u001b[0m: Level value of 9 is too high.  Maximum allowed is 8."
     ]
    }
   ],
   "source": [
    "# Aplicação de cross validation no sistema de classificação\n",
    "import numpy as np\n",
    "from scipy.io import loadmat\n",
    "\n",
    "# eeg = loadmat('/home/renato/Dropbox/Mestrado/final/'\n",
    "#               'kolodziej_dataset/dataset_7_canais.mat')\n",
    "\n",
    "# carregando os canais de interesse dos arquivos .mat e gerando o array\n",
    "lista_canais = list(range(15))\n",
    "n_canais = len(lista_canais)\n",
    "path = '/home/renato/Dropbox/Mestrado/final/kolodziej_dataset/all_data/S{}_{}Hz.mat'\n",
    "data = [np.transpose(loadmat(path.format(i, j))['X'])[lista_canais]\n",
    "        for j in range(5, 9) for i in range(1, 6)]\n",
    "data = np.vstack(data)\n",
    "\n",
    "# criando o array de targets\n",
    "target = [np.full(n_canais * 5, i, dtype='int64') for i in range(5, 9)]\n",
    "target = np.hstack((target[0], target[1], target[2], target[3]))\n",
    "\n",
    "# data = eeg['data']\n",
    "# target = eeg['target']\n",
    "# target = target.reshape(target.shape[1])\n",
    "\n",
    "from sklearn.preprocessing import scale\n",
    "\n",
    "data_scaled = np.array([scale(data[i]) for i in range(len(data))])\n",
    "\n",
    "import pywt\n",
    "\n",
    "# decompondo em sub-bandas usando a DWT e wavelet db12 e tomando\n",
    "# apenas as aproximações\n",
    "\n",
    "\n",
    "from sklearn.model_selection import cross_val_score, train_test_split\n",
    "from sklearn.ensemble import RandomForestClassifier\n",
    "from sklearn.metrics import accuracy_score\n",
    "\n",
    "lista = []\n",
    "for k in range(10):\n",
    "    \n",
    "    n_levels = k\n",
    "    data_scaled_dwt = [pywt.wavedec(data_scaled[i], pywt.Wavelet('db12'),\n",
    "                   level=n_levels)[0] for i in range(len(data_scaled))]\n",
    "    data_scaled_dwt = np.vstack(data_scaled_dwt)\n",
    "    \n",
    "    train, test = train_test_split(np.arange(len(target)))\n",
    "\n",
    "    clf_RF = RandomForestClassifier(n_estimators=500, max_features='auto',\n",
    "                                        n_jobs=-1, bootstrap=True,\n",
    "                                        warm_start=0, oob_score=True)\n",
    "    # CV_score = cross_val_score(clf_RF, data[train], target[train], cv=6, n_jobs=2)\n",
    "    # print(\"Accuracy after Cross Validation: {:.2%} +/- {:.2%}\".format(CV_score.mean(), CV_score.std()))\n",
    "    clf_RF.fit(data_scaled_dwt[train], target[train])\n",
    "\n",
    "    preds_clw_RF_train = clf_RF.predict(data_scaled_dwt[train])\n",
    "    preds_clw_RF_test = clf_RF.predict(data_scaled_dwt[test])\n",
    "\n",
    "    print(\"Wavelet transform features using RF: training accuracy={:.2%},\"\n",
    "              \"test accuracy={:.2%}\".format(\n",
    "                  accuracy_score(preds_clw_RF_train, target[train]),\n",
    "                  accuracy_score(preds_clw_RF_test, target[test])))\n",
    "    lista.append(accuracy_score(preds_clw_RF_test, target[test]))\n",
    "               \n",
    "lista = np.array(lista)\n",
    "print(lista.mean())"
   ]
  },
  {
   "cell_type": "code",
   "execution_count": 18,
   "metadata": {
    "collapsed": false
   },
   "outputs": [],
   "source": [
    "x = loadmat('/home/renato/Dropbox/Mestrado/final/kolodziej_dataset/dataset_15_canais.mat')"
   ]
  },
  {
   "cell_type": "code",
   "execution_count": 21,
   "metadata": {
    "collapsed": false
   },
   "outputs": [
    {
     "data": {
      "text/plain": [
       "(300, 142)"
      ]
     },
     "execution_count": 21,
     "metadata": {},
     "output_type": "execute_result"
    }
   ],
   "source": [
    "data_scaled_dwt.shape"
   ]
  },
  {
   "cell_type": "code",
   "execution_count": 23,
   "metadata": {
    "collapsed": false,
    "scrolled": true
   },
   "outputs": [
    {
     "data": {
      "text/plain": [
       "300"
      ]
     },
     "execution_count": 23,
     "metadata": {},
     "output_type": "execute_result"
    }
   ],
   "source": [
    "5*15*4"
   ]
  }
 ],
 "metadata": {
  "kernelspec": {
   "display_name": "Python 3",
   "language": "python",
   "name": "python3"
  },
  "language_info": {
   "codemirror_mode": {
    "name": "ipython",
    "version": 3
   },
   "file_extension": ".py",
   "mimetype": "text/x-python",
   "name": "python",
   "nbconvert_exporter": "python",
   "pygments_lexer": "ipython3",
   "version": "3.6.0"
  }
 },
 "nbformat": 4,
 "nbformat_minor": 2
}
