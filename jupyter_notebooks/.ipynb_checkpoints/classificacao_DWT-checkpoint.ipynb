{
 "cells": [
  {
   "cell_type": "markdown",
   "metadata": {},
   "source": [
    "# Classificação dos padrões SSVEP utilizando DWT"
   ]
  },
  {
   "cell_type": "markdown",
   "metadata": {},
   "source": [
    "A detecção dos padrões dos sinais de EEG sob estimulação é realizada utilizando-se o objeto criado \n",
    "utilizando-se a função create_dataset. A redução de features é realizada através da decomposição do\n",
    "sinal pela Transformada Wavelet Discreta (DWT)."
   ]
  },
  {
   "cell_type": "code",
   "execution_count": 81,
   "metadata": {
    "collapsed": false
   },
   "outputs": [
    {
     "name": "stdout",
     "output_type": "stream",
     "text": [
      "DWT transform features using RF: training accuracy: 100.00%,test accuracy: 99.00%\n",
      "DWT transform features using RF: training accuracy: 100.00%,test accuracy: 100.00%\n",
      "DWT transform features using RF: training accuracy: 100.00%,test accuracy: 100.00%\n",
      "DWT transform features using RF: training accuracy: 100.00%,test accuracy: 96.00%\n",
      "DWT transform features using RF: training accuracy: 100.00%,test accuracy: 100.00%\n",
      "DWT transform features using RF: training accuracy: 100.00%,test accuracy: 100.00%\n",
      "DWT transform features using RF: training accuracy: 100.00%,test accuracy: 100.00%\n",
      "DWT transform features using RF: training accuracy: 100.00%,test accuracy: 100.00%\n",
      "DWT transform features using RF: training accuracy: 100.00%,test accuracy: 100.00%\n",
      "DWT transform features using RF: training accuracy: 100.00%,test accuracy: 99.00%\n",
      "Mean test accuracy: 99.40% +/- 1.20%\n"
     ]
    }
   ],
   "source": [
    "import numpy as np\n",
    "import matplotlib.pyplot as plt\n",
    "from scipy.io import loadmat\n",
    "\n",
    "# carregando o arquivo .mat contendo o dataset e salvando as variáveis \n",
    "data = loadmat('/home/renato/Dropbox/Mestrado/final/kolodziej_dataset/dataset_10_canais.mat')\n",
    "eeg = data['data']\n",
    "target = data['target']\n",
    "target = target.reshape(target.shape[1])\n",
    "\n",
    "# realizando o whitening dos dados de entrada (standardization)\n",
    "from sklearn.preprocessing import scale\n",
    "eeg_scaled = np.array([scale(eeg[i]) for i in range(len(eeg))])\n",
    "\n",
    "# decompondo em sub-bandas utilizando a DWT (mother wavelet db12) e ficando apenas com as aproximações\n",
    "# com isso, o número de features cai de 7680 para 501\n",
    "import pywt\n",
    "\n",
    "n_levels = 4\n",
    "eeg_scaled_dwt = [pywt.wavedec(eeg_scaled[i], pywt.Wavelet('db12'), level=n_levels)[0] \n",
    "                   for i in range(len(eeg_scaled))]\n",
    "eeg_scaled_dwt = np.vstack(eeg_scaled_dwt)\n",
    "\n",
    "# importando e treinando o estimador (Random Forest)\n",
    "from sklearn.ensemble import RandomForestClassifier\n",
    "from sklearn.model_selection import train_test_split\n",
    "from sklearn.metrics import accuracy_score\n",
    "\n",
    "# repetindo a separação (aleatória) dos subconjuntos de treino e teste, treinamento e predição\n",
    "n_testes = 10\n",
    "acc_list = []\n",
    "for i in range(n_testes):\n",
    "    train, test = train_test_split(np.arange(len(target)), test_size=0.5)\n",
    "    clf_RF = RandomForestClassifier(n_estimators=1000, max_features='auto', n_jobs=-1, \n",
    "                                    bootstrap=True, warm_start=0, oob_score=True)\n",
    "    clf_RF.fit(eeg_scaled_dwt[train], target[train])\n",
    "    \n",
    "    #predição\n",
    "    preds_clf_RF = clf_RF.predict(eeg_scaled_dwt)\n",
    "    print('DWT transform features using RF: training accuracy: {:.2%},'\n",
    "          'test accuracy: {:.2%}'.format(\n",
    "                accuracy_score(preds_clf_RF[train], target[train]), \n",
    "                accuracy_score(preds_clf_RF[test], target[test])))\n",
    "    acc_list.append(accuracy_score(preds_clf_RF[test],target[test]))\n",
    "\n",
    "print('Mean test accuracy: {:.2%} +/- {:.2%}'.format(np.mean(acc_list), np.std(acc_list)))\n",
    "    "
   ]
  },
  {
   "cell_type": "code",
   "execution_count": null,
   "metadata": {
    "collapsed": false
   },
   "outputs": [],
   "source": []
  },
  {
   "cell_type": "code",
   "execution_count": 98,
   "metadata": {
    "collapsed": false
   },
   "outputs": [
    {
     "data": {
      "text/plain": [
       "(300, 1937)"
      ]
     },
     "execution_count": 98,
     "metadata": {},
     "output_type": "execute_result"
    }
   ],
   "source": [
    "data_scaled_dwt.shape"
   ]
  }
 ],
 "metadata": {
  "kernelspec": {
   "display_name": "Python 3",
   "language": "python",
   "name": "python3"
  },
  "language_info": {
   "codemirror_mode": {
    "name": "ipython",
    "version": 3
   },
   "file_extension": ".py",
   "mimetype": "text/x-python",
   "name": "python",
   "nbconvert_exporter": "python",
   "pygments_lexer": "ipython3",
   "version": "3.6.0"
  }
 },
 "nbformat": 4,
 "nbformat_minor": 2
}
