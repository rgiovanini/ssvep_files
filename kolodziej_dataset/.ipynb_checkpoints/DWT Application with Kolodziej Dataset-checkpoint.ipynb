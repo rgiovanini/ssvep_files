{
 "cells": [
  {
   "cell_type": "code",
   "execution_count": 1,
   "metadata": {
    "collapsed": true
   },
   "outputs": [],
   "source": [
    "import numpy as np \n",
    "import matplotlib.pyplot as plt\n",
    "import pywt as wt\n",
    "import scipy.signal as sig\n",
    "from scipy.io import loadmat\n",
    "%matplotlib qt5"
   ]
  },
  {
   "cell_type": "code",
   "execution_count": 2,
   "metadata": {
    "collapsed": true
   },
   "outputs": [],
   "source": [
    "# Decomposição e reconstrução do sinal do canal Oz através da DWT"
   ]
  },
  {
   "cell_type": "code",
   "execution_count": 35,
   "metadata": {
    "collapsed": true
   },
   "outputs": [],
   "source": [
    "data = loadmat('5Hz/S1_5Hz.mat')\n",
    "eeg = data['X']\n",
    "Oz = eeg[:,14]\n",
    "fs = 256"
   ]
  },
  {
   "cell_type": "code",
   "execution_count": 46,
   "metadata": {
    "collapsed": false
   },
   "outputs": [],
   "source": [
    "# criando vetor de tempo \n",
    "t1 = np.arange(len(Oz)) / fs\n",
    "t2 = np.arange(len(Oz[::2])) / fs\n",
    "t3 = np.arange(len(Oz[::3])) / fs"
   ]
  },
  {
   "cell_type": "code",
   "execution_count": 62,
   "metadata": {
    "collapsed": false
   },
   "outputs": [],
   "source": [
    "freq1 = sig.periodogram(Oz,fs=fs,window='hamming')\n",
    "freq2 = sig.periodogram(Oz[::2],fs=fs, window='hamming')\n",
    "freq3 = sig.periodogram(Oz[::3],fs=fs, window='hamming')\n",
    "\n",
    "plt.figure(1)\n",
    "plt.grid()\n",
    "plt.plot(freq1[0], freq1[1], label='normal')\n",
    "plt.plot(freq2[0], freq2[1], label='down_2')\n",
    "plt.plot(freq3[0], freq3[1], label='down_3')\n",
    "plt.legend()\n",
    "plt.show()\n"
   ]
  },
  {
   "cell_type": "code",
   "execution_count": 96,
   "metadata": {
    "collapsed": false
   },
   "outputs": [],
   "source": [
    "# Decomposição em nivel 4 do sinal sub-amostrado\n",
    "db2 = wt.Wavelet('db2')\n",
    "cA4, cD4, cD3, cD2, cD1 = wt.wavedec(Oz[::2], db2, level=4)"
   ]
  },
  {
   "cell_type": "code",
   "execution_count": 95,
   "metadata": {
    "collapsed": false
   },
   "outputs": [
    {
     "data": {
      "text/plain": [
       "pywt._extensions._pywt.Wavelet(name='db2', filter_bank=([-0.12940952255126037, 0.2241438680420134, 0.8365163037378079, 0.48296291314453416], [-0.48296291314453416, 0.8365163037378079, -0.2241438680420134, -0.12940952255126037], [0.48296291314453416, 0.8365163037378079, 0.2241438680420134, -0.12940952255126037], [-0.12940952255126037, -0.2241438680420134, 0.8365163037378079, -0.48296291314453416]))"
      ]
     },
     "execution_count": 95,
     "metadata": {},
     "output_type": "execute_result"
    }
   ],
   "source": []
  }
 ],
 "metadata": {
  "kernelspec": {
   "display_name": "Python 3",
   "language": "python",
   "name": "python3"
  },
  "language_info": {
   "codemirror_mode": {
    "name": "ipython",
    "version": 3
   },
   "file_extension": ".py",
   "mimetype": "text/x-python",
   "name": "python",
   "nbconvert_exporter": "python",
   "pygments_lexer": "ipython3",
   "version": "3.6.0"
  }
 },
 "nbformat": 4,
 "nbformat_minor": 2
}
