{
 "cells": [
  {
   "cell_type": "markdown",
   "metadata": {},
   "source": [
    "Avaliando um dos arquivos do MAMEM Dataset"
   ]
  },
  {
   "cell_type": "code",
   "execution_count": 16,
   "metadata": {
    "collapsed": false
   },
   "outputs": [],
   "source": [
    "import numpy as np\n",
    "import matplotlib.pyplot as plt\n",
    "from scipy.io import loadmat\n",
    "import scipy.signal as sig\n",
    "import pywt\n",
    "from sklearn.ensemble import RandomForestClassifier\n",
    "from sklearn.model_selection import train_test_split\n",
    "from sklearn.metrics import accuracy_score\n",
    "from sklearn.preprocessing import scale\n",
    "%matplotlib qt5"
   ]
  },
  {
   "cell_type": "code",
   "execution_count": 23,
   "metadata": {
    "collapsed": false
   },
   "outputs": [],
   "source": [
    "lista_canais = [101, 110, 119, 128, 109, 118, 127, 140, 108, 117, 126, 139, 151, 107, 116, 125, \n",
    "                138, 150, 160, 106, 115, 124, 137, 149, 159, 169, 114, 123, 136, 148, 158, 168,\n",
    "                113, 122, 135, 147, 157, 167, 176, 121, 134, 146, 156, 166, 175, 120, 133, 145,\n",
    "                165, 174, 187]\n",
    "\n",
    "data_dict = loadmat('T001a.mat')\n",
    "data = data_dict['eeg'][lista_canais]\n",
    "target = data_dict['labels'].reshape(data_dict['labels'].shape[1])\n",
    "fs = float(data_dict['samplingRate'])\n",
    "t = np.arange(data.shape[1]) / fs\n",
    "stimuli = [7.5, 10, 9.57, 6.66, 12, 10, 6.66, 7.5, 10, 8.57, 12, 6.66,\n",
    "           7.5, 8.57, 10, 7.5, 12, 10, 6.66, 8.57, 7.5, 12, 8.57, 12, 8.57]"
   ]
  },
  {
   "cell_type": "markdown",
   "metadata": {},
   "source": [
    "## PRIMEIRA TAREFA: REMOÇÃO DE BASELINE!!! "
   ]
  }
 ],
 "metadata": {
  "kernelspec": {
   "display_name": "Python 3",
   "language": "python",
   "name": "python3"
  },
  "language_info": {
   "codemirror_mode": {
    "name": "ipython",
    "version": 3
   },
   "file_extension": ".py",
   "mimetype": "text/x-python",
   "name": "python",
   "nbconvert_exporter": "python",
   "pygments_lexer": "ipython3",
   "version": "3.6.0"
  }
 },
 "nbformat": 4,
 "nbformat_minor": 2
}
