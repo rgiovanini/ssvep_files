{
 "cells": [
  {
   "cell_type": "markdown",
   "metadata": {},
   "source": [
    "Avaliando um dos arquivos do MAMEM Dataset"
   ]
  },
  {
   "cell_type": "code",
   "execution_count": 2,
   "metadata": {
    "collapsed": false
   },
   "outputs": [],
   "source": [
    "import numpy as np\n",
    "import matplotlib.pyplot as plt\n",
    "from scipy.io import loadmat\n",
    "import scipy.signal as sig\n",
    "import pywt\n",
    "from sklearn.ensemble import RandomForestClassifier\n",
    "from sklearn.model_selection import train_test_split\n",
    "from sklearn.metrics import accuracy_score\n",
    "from sklearn.preprocessing import scale"
   ]
  },
  {
   "cell_type": "code",
   "execution_count": 16,
   "metadata": {
    "collapsed": false
   },
   "outputs": [],
   "source": [
    "data_dict = loadmat('T001a.mat')\n",
    "data = data_dict['eeg']\n",
    "target = data_dict['labels'].reshape(data_dict['labels'].shape[1])\n",
    "fs = float(data_dict['samplingRate'])"
   ]
  },
  {
   "cell_type": "code",
   "execution_count": 38,
   "metadata": {
    "collapsed": false
   },
   "outputs": [
    {
     "data": {
      "text/plain": [
       "{'DIN_1': array([[array(['D255'], \n",
       "       dtype='<U4'),\n",
       "         array(['D254'], \n",
       "       dtype='<U4'),\n",
       "         array(['D255'], \n",
       "       dtype='<U4'), ...,\n",
       "         array(['D254'], \n",
       "       dtype='<U4'),\n",
       "         array(['D255'], \n",
       "       dtype='<U4'),\n",
       "         array(['D254'], \n",
       "       dtype='<U4')],\n",
       "        [array([[4144]], dtype=uint16), array([[4162]], dtype=uint16),\n",
       "         array([[9432]], dtype=uint16), ..., array([[317524]], dtype=int32),\n",
       "         array([[317575]], dtype=int32), array([[317608]], dtype=int32)],\n",
       "        [array([[1]], dtype=uint8), array([[1]], dtype=uint8),\n",
       "         array([[1]], dtype=uint8), ..., array([[1]], dtype=uint8),\n",
       "         array([[1]], dtype=uint8), array([[1]], dtype=uint8)],\n",
       "        [array([[1036]], dtype=uint16), array([[1040]], dtype=uint16),\n",
       "         array([[2358]], dtype=uint16), ..., array([[79381]], dtype=int32),\n",
       "         array([[79393]], dtype=int32), array([[79402]], dtype=int32)]], dtype=object),\n",
       " '__globals__': [],\n",
       " '__header__': b'MATLAB 5.0 MAT-file, Platform: MACI64, Created on: Mon Feb 29 14:57:05 2016',\n",
       " '__version__': '1.0',\n",
       " 'age': array(['25'], \n",
       "       dtype='<U2'),\n",
       " 'capsize': array(['Adult Medium'], \n",
       "       dtype='<U12'),\n",
       " 'eeg': array([[ -4708.69873047,  -4671.37988281,  -4682.14404297, ...,\n",
       "          -7283.64355469,  -7270.66455078,  -7272.96142578],\n",
       "        [  1988.12097168,   2001.66223145,   1989.13952637, ...,\n",
       "           1271.14624023,   1285.68847656,   1288.74401855],\n",
       "        [    25.47970581,     42.05008698,     28.95854568, ...,\n",
       "           1027.99145508,   1043.02783203,   1047.88769531],\n",
       "        ..., \n",
       "        [-10737.50390625, -10729.26953125, -10727.77539062, ...,\n",
       "         -21107.04101562, -21100.6171875 , -21128.796875  ],\n",
       "        [ -2443.21704102,  -2437.49365234,  -2442.6796875 , ...,\n",
       "          -2768.41772461,  -2758.30664062,  -2781.79199219],\n",
       "        [     0.        ,      0.        ,      0.        , ...,\n",
       "              0.        ,      0.        ,      0.        ]]),\n",
       " 'gender': array(['Male'], \n",
       "       dtype='<U4'),\n",
       " 'hairtype': array(['Regular'], \n",
       "       dtype='<U7'),\n",
       " 'handedness': array(['Right'], \n",
       "       dtype='<U5'),\n",
       " 'labels': array([[array([[4]], dtype=uint8), array([[2]], dtype=uint8),\n",
       "         array([[3]], dtype=uint8), array([[5]], dtype=uint8),\n",
       "         array([[1]], dtype=uint8), array([[2]], dtype=uint8),\n",
       "         array([[5]], dtype=uint8), array([[4]], dtype=uint8),\n",
       "         array([[2]], dtype=uint8), array([[3]], dtype=uint8),\n",
       "         array([[1]], dtype=uint8), array([[5]], dtype=uint8),\n",
       "         array([[4]], dtype=uint8), array([[3]], dtype=uint8),\n",
       "         array([[2]], dtype=uint8), array([[4]], dtype=uint8),\n",
       "         array([[1]], dtype=uint8), array([[2]], dtype=uint8),\n",
       "         array([[5]], dtype=uint8), array([[3]], dtype=uint8),\n",
       "         array([[4]], dtype=uint8), array([[1]], dtype=uint8),\n",
       "         array([[3]], dtype=uint8), array([[1]], dtype=uint8),\n",
       "         array([[3]], dtype=uint8)]], dtype=object),\n",
       " 'samplingRate': array([[250]], dtype=uint8),\n",
       " 'version': array([[2]], dtype=uint8)}"
      ]
     },
     "execution_count": 38,
     "metadata": {},
     "output_type": "execute_result"
    }
   ],
   "source": [
    "data_dict"
   ]
  }
 ],
 "metadata": {
  "kernelspec": {
   "display_name": "Python 3",
   "language": "python",
   "name": "python3"
  },
  "language_info": {
   "codemirror_mode": {
    "name": "ipython",
    "version": 3
   },
   "file_extension": ".py",
   "mimetype": "text/x-python",
   "name": "python",
   "nbconvert_exporter": "python",
   "pygments_lexer": "ipython3",
   "version": "3.6.0"
  }
 },
 "nbformat": 4,
 "nbformat_minor": 2
}
