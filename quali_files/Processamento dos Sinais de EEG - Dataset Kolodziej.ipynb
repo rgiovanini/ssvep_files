{
 "cells": [
  {
   "cell_type": "markdown",
   "metadata": {},
   "source": [
    "# Processamento dos Sinais de EEG - Dataset: Kolodziej"
   ]
  },
  {
   "cell_type": "code",
   "execution_count": 2,
   "metadata": {
    "collapsed": true
   },
   "outputs": [],
   "source": [
    "import numpy as np\n",
    "import matplotlib.pyplot as plt\n",
    "import scipy.signal as sig\n",
    "from scipy.io import loadmat\n",
    "%matplotlib qt5"
   ]
  },
  {
   "cell_type": "markdown",
   "metadata": {},
   "source": [
    "Importar os arquivos .mat em arrays (separando por frequências)"
   ]
  },
  {
   "cell_type": "code",
   "execution_count": 3,
   "metadata": {
    "collapsed": false
   },
   "outputs": [],
   "source": [
    "info_array_5hz = []\n",
    "eeg_array_5hz = []\n",
    "for i in range(1,6):\n",
    "    info_array_5hz.append(loadmat('5Hz/S{}_5Hz.mat'.format(i)))\n",
    "    eeg_array_5hz.append(info_array_5hz[i-1]['X'])\n",
    "eeg_array_5hz = np.array(eeg_array_5hz)"
   ]
  },
  {
   "cell_type": "markdown",
   "metadata": {},
   "source": [
    "O array eeg_5hz possui shape na configuração (subject, time, channel)"
   ]
  },
  {
   "cell_type": "code",
   "execution_count": 4,
   "metadata": {
    "collapsed": false
   },
   "outputs": [
    {
     "data": {
      "text/plain": [
       "(5, 7680, 16)"
      ]
     },
     "execution_count": 4,
     "metadata": {},
     "output_type": "execute_result"
    }
   ],
   "source": [
    "eeg_array_5hz.shape"
   ]
  },
  {
   "cell_type": "markdown",
   "metadata": {
    "collapsed": false
   },
   "source": [
    "Utilizaremos para processamento o canal Oz (index 14)"
   ]
  },
  {
   "cell_type": "code",
   "execution_count": 5,
   "metadata": {
    "collapsed": false
   },
   "outputs": [
    {
     "name": "stdout",
     "output_type": "stream",
     "text": [
      "(5, 7680)\n"
     ]
    }
   ],
   "source": [
    "Oz_array_5hz = []\n",
    "for i in range(5):\n",
    "    Oz_array_5hz.append(eeg_array_5hz[i,:,14])\n",
    "\n",
    "Oz_array_5hz = np.array(Oz_array_5hz)\n",
    "print(Oz_array_5hz.shape) # Configuração do shape: (subject, time)"
   ]
  },
  {
   "cell_type": "code",
   "execution_count": 6,
   "metadata": {
    "collapsed": false
   },
   "outputs": [],
   "source": [
    "# Definindo a função para gerar a DFT de uma sequência (visualização apenas no intervalo de interesse)\n",
    "\n",
    "def plotDFT(input_signal, sampling_frequency):\n",
    "    \"\"\"Plota a DFT de input_signal. O intervalo de visualização é apenas de 0 a pi. \n",
    "    Input arguments: \n",
    "    input_signal: Sequência de entrada \n",
    "    sampling_frequency: frequência de amostragem\n",
    "    \"\"\"\n",
    "    \n",
    "    N = len(input_signal)\n",
    "    T = 1. / sampling_frequency\n",
    "    xf = np.linspace(0.,1./(2.*T), N/2)\n",
    "    fft_input = np.fft.fft(input_signal)\n",
    "    \n",
    "    return plt.plot(xf, np.abs(fft_input[:N/2]))"
   ]
  },
  {
   "cell_type": "code",
   "execution_count": 56,
   "metadata": {
    "collapsed": false
   },
   "outputs": [
    {
     "ename": "ValueError",
     "evalue": "Unknown window type.",
     "output_type": "error",
     "traceback": [
      "\u001b[0;31m---------------------------------------------------------------------------\u001b[0m",
      "\u001b[0;31mValueError\u001b[0m                                Traceback (most recent call last)",
      "\u001b[0;32m/home/renato/anaconda3/lib/python3.5/site-packages/scipy/signal/windows.py\u001b[0m in \u001b[0;36mget_window\u001b[0;34m(window, Nx, fftbins)\u001b[0m\n\u001b[1;32m   1669\u001b[0m     \u001b[0;32mtry\u001b[0m\u001b[0;34m:\u001b[0m\u001b[0;34m\u001b[0m\u001b[0m\n\u001b[0;32m-> 1670\u001b[0;31m         \u001b[0mbeta\u001b[0m \u001b[0;34m=\u001b[0m \u001b[0mfloat\u001b[0m\u001b[0;34m(\u001b[0m\u001b[0mwindow\u001b[0m\u001b[0;34m)\u001b[0m\u001b[0;34m\u001b[0m\u001b[0m\n\u001b[0m\u001b[1;32m   1671\u001b[0m     \u001b[0;32mexcept\u001b[0m \u001b[0;34m(\u001b[0m\u001b[0mTypeError\u001b[0m\u001b[0;34m,\u001b[0m \u001b[0mValueError\u001b[0m\u001b[0;34m)\u001b[0m\u001b[0;34m:\u001b[0m\u001b[0;34m\u001b[0m\u001b[0m\n",
      "\u001b[0;31mValueError\u001b[0m: could not convert string to float: 'barlett'",
      "\nDuring handling of the above exception, another exception occurred:\n",
      "\u001b[0;31mKeyError\u001b[0m                                  Traceback (most recent call last)",
      "\u001b[0;32m/home/renato/anaconda3/lib/python3.5/site-packages/scipy/signal/windows.py\u001b[0m in \u001b[0;36mget_window\u001b[0;34m(window, Nx, fftbins)\u001b[0m\n\u001b[1;32m   1687\u001b[0m         \u001b[0;32mtry\u001b[0m\u001b[0;34m:\u001b[0m\u001b[0;34m\u001b[0m\u001b[0m\n\u001b[0;32m-> 1688\u001b[0;31m             \u001b[0mwinfunc\u001b[0m \u001b[0;34m=\u001b[0m \u001b[0m_win_equiv\u001b[0m\u001b[0;34m[\u001b[0m\u001b[0mwinstr\u001b[0m\u001b[0;34m]\u001b[0m\u001b[0;34m\u001b[0m\u001b[0m\n\u001b[0m\u001b[1;32m   1689\u001b[0m         \u001b[0;32mexcept\u001b[0m \u001b[0mKeyError\u001b[0m\u001b[0;34m:\u001b[0m\u001b[0;34m\u001b[0m\u001b[0m\n",
      "\u001b[0;31mKeyError\u001b[0m: 'barlett'",
      "\nDuring handling of the above exception, another exception occurred:\n",
      "\u001b[0;31mValueError\u001b[0m                                Traceback (most recent call last)",
      "\u001b[0;32m<ipython-input-56-6bee6c6b12b0>\u001b[0m in \u001b[0;36m<module>\u001b[0;34m()\u001b[0m\n\u001b[1;32m      1\u001b[0m \u001b[0;31m#Plotando as Densidades espectrais para o Subject_1- Periodograma tradicional e Método de Welch\u001b[0m\u001b[0;34m\u001b[0m\u001b[0;34m\u001b[0m\u001b[0m\n\u001b[1;32m      2\u001b[0m \u001b[0;34m\u001b[0m\u001b[0m\n\u001b[0;32m----> 3\u001b[0;31m \u001b[0mOz_period\u001b[0m \u001b[0;34m=\u001b[0m \u001b[0msig\u001b[0m\u001b[0;34m.\u001b[0m\u001b[0mperiodogram\u001b[0m\u001b[0;34m(\u001b[0m\u001b[0mOz_array_5hz\u001b[0m\u001b[0;34m[\u001b[0m\u001b[0;36m0\u001b[0m\u001b[0;34m]\u001b[0m\u001b[0;34m,\u001b[0m \u001b[0mfs\u001b[0m\u001b[0;34m=\u001b[0m\u001b[0;36m256.\u001b[0m\u001b[0;34m,\u001b[0m \u001b[0mwindow\u001b[0m\u001b[0;34m=\u001b[0m\u001b[0;34m'barlett'\u001b[0m\u001b[0;34m,\u001b[0m\u001b[0mnfft\u001b[0m\u001b[0;34m=\u001b[0m\u001b[0mlen\u001b[0m\u001b[0;34m(\u001b[0m\u001b[0mOz_array_5hz\u001b[0m\u001b[0;34m[\u001b[0m\u001b[0;36m0\u001b[0m\u001b[0;34m]\u001b[0m\u001b[0;34m)\u001b[0m\u001b[0;34m)\u001b[0m\u001b[0;34m\u001b[0m\u001b[0m\n\u001b[0m\u001b[1;32m      4\u001b[0m \u001b[0mOz_welch\u001b[0m \u001b[0;34m=\u001b[0m \u001b[0msig\u001b[0m\u001b[0;34m.\u001b[0m\u001b[0mwelch\u001b[0m\u001b[0;34m(\u001b[0m\u001b[0mOz_array_5hz\u001b[0m\u001b[0;34m[\u001b[0m\u001b[0;36m0\u001b[0m\u001b[0;34m]\u001b[0m\u001b[0;34m,\u001b[0m \u001b[0mfs\u001b[0m\u001b[0;34m=\u001b[0m\u001b[0;36m256.\u001b[0m\u001b[0;34m,\u001b[0m \u001b[0mwindow\u001b[0m\u001b[0;34m=\u001b[0m\u001b[0;34m'hann'\u001b[0m\u001b[0;34m,\u001b[0m \u001b[0mnperseg\u001b[0m\u001b[0;34m=\u001b[0m\u001b[0;36m350\u001b[0m\u001b[0;34m,\u001b[0m \u001b[0mnfft\u001b[0m\u001b[0;34m=\u001b[0m\u001b[0;36m512\u001b[0m\u001b[0;34m)\u001b[0m\u001b[0;34m\u001b[0m\u001b[0m\n\u001b[1;32m      5\u001b[0m \u001b[0;31m#Oz_welch2 = sig.welch(Oz_array_5hz[0], fs=256., nperseg=350, noverlap=0.75,nfft=len(Oz_array_5hz[0]))\u001b[0m\u001b[0;34m\u001b[0m\u001b[0;34m\u001b[0m\u001b[0m\n",
      "\u001b[0;32m/home/renato/anaconda3/lib/python3.5/site-packages/scipy/signal/spectral.py\u001b[0m in \u001b[0;36mperiodogram\u001b[0;34m(x, fs, window, nfft, detrend, return_onesided, scaling, axis)\u001b[0m\n\u001b[1;32m    139\u001b[0m \u001b[0;34m\u001b[0m\u001b[0m\n\u001b[1;32m    140\u001b[0m     return welch(x, fs, window, nperseg, 0, nfft, detrend, return_onesided,\n\u001b[0;32m--> 141\u001b[0;31m                  scaling, axis)\n\u001b[0m\u001b[1;32m    142\u001b[0m \u001b[0;34m\u001b[0m\u001b[0m\n\u001b[1;32m    143\u001b[0m \u001b[0;34m\u001b[0m\u001b[0m\n",
      "\u001b[0;32m/home/renato/anaconda3/lib/python3.5/site-packages/scipy/signal/spectral.py\u001b[0m in \u001b[0;36mwelch\u001b[0;34m(x, fs, window, nperseg, noverlap, nfft, detrend, return_onesided, scaling, axis)\u001b[0m\n\u001b[1;32m    271\u001b[0m \u001b[0;34m\u001b[0m\u001b[0m\n\u001b[1;32m    272\u001b[0m     freqs, Pxx = csd(x, x, fs, window, nperseg, noverlap, nfft, detrend,\n\u001b[0;32m--> 273\u001b[0;31m                      return_onesided, scaling, axis)\n\u001b[0m\u001b[1;32m    274\u001b[0m \u001b[0;34m\u001b[0m\u001b[0m\n\u001b[1;32m    275\u001b[0m     \u001b[0;32mreturn\u001b[0m \u001b[0mfreqs\u001b[0m\u001b[0;34m,\u001b[0m \u001b[0mPxx\u001b[0m\u001b[0;34m.\u001b[0m\u001b[0mreal\u001b[0m\u001b[0;34m\u001b[0m\u001b[0m\n",
      "\u001b[0;32m/home/renato/anaconda3/lib/python3.5/site-packages/scipy/signal/spectral.py\u001b[0m in \u001b[0;36mcsd\u001b[0;34m(x, y, fs, window, nperseg, noverlap, nfft, detrend, return_onesided, scaling, axis)\u001b[0m\n\u001b[1;32m    389\u001b[0m     freqs, _, Pxy = _spectral_helper(x, y, fs, window, nperseg, noverlap, nfft,\n\u001b[1;32m    390\u001b[0m                                      \u001b[0mdetrend\u001b[0m\u001b[0;34m,\u001b[0m \u001b[0mreturn_onesided\u001b[0m\u001b[0;34m,\u001b[0m \u001b[0mscaling\u001b[0m\u001b[0;34m,\u001b[0m \u001b[0maxis\u001b[0m\u001b[0;34m,\u001b[0m\u001b[0;34m\u001b[0m\u001b[0m\n\u001b[0;32m--> 391\u001b[0;31m                                      mode='psd')\n\u001b[0m\u001b[1;32m    392\u001b[0m \u001b[0;34m\u001b[0m\u001b[0m\n\u001b[1;32m    393\u001b[0m     \u001b[0;31m# Average over windows.\u001b[0m\u001b[0;34m\u001b[0m\u001b[0;34m\u001b[0m\u001b[0m\n",
      "\u001b[0;32m/home/renato/anaconda3/lib/python3.5/site-packages/scipy/signal/spectral.py\u001b[0m in \u001b[0;36m_spectral_helper\u001b[0;34m(x, y, fs, window, nperseg, noverlap, nfft, detrend, return_onesided, scaling, axis, mode)\u001b[0m\n\u001b[1;32m    809\u001b[0m \u001b[0;34m\u001b[0m\u001b[0m\n\u001b[1;32m    810\u001b[0m     \u001b[0;32mif\u001b[0m \u001b[0misinstance\u001b[0m\u001b[0;34m(\u001b[0m\u001b[0mwindow\u001b[0m\u001b[0;34m,\u001b[0m \u001b[0mstring_types\u001b[0m\u001b[0;34m)\u001b[0m \u001b[0;32mor\u001b[0m \u001b[0mtype\u001b[0m\u001b[0;34m(\u001b[0m\u001b[0mwindow\u001b[0m\u001b[0;34m)\u001b[0m \u001b[0;32mis\u001b[0m \u001b[0mtuple\u001b[0m\u001b[0;34m:\u001b[0m\u001b[0;34m\u001b[0m\u001b[0m\n\u001b[0;32m--> 811\u001b[0;31m         \u001b[0mwin\u001b[0m \u001b[0;34m=\u001b[0m \u001b[0mget_window\u001b[0m\u001b[0;34m(\u001b[0m\u001b[0mwindow\u001b[0m\u001b[0;34m,\u001b[0m \u001b[0mnperseg\u001b[0m\u001b[0;34m)\u001b[0m\u001b[0;34m\u001b[0m\u001b[0m\n\u001b[0m\u001b[1;32m    812\u001b[0m     \u001b[0;32melse\u001b[0m\u001b[0;34m:\u001b[0m\u001b[0;34m\u001b[0m\u001b[0m\n\u001b[1;32m    813\u001b[0m         \u001b[0mwin\u001b[0m \u001b[0;34m=\u001b[0m \u001b[0mnp\u001b[0m\u001b[0;34m.\u001b[0m\u001b[0masarray\u001b[0m\u001b[0;34m(\u001b[0m\u001b[0mwindow\u001b[0m\u001b[0;34m)\u001b[0m\u001b[0;34m\u001b[0m\u001b[0m\n",
      "\u001b[0;32m/home/renato/anaconda3/lib/python3.5/site-packages/scipy/signal/windows.py\u001b[0m in \u001b[0;36mget_window\u001b[0;34m(window, Nx, fftbins)\u001b[0m\n\u001b[1;32m   1688\u001b[0m             \u001b[0mwinfunc\u001b[0m \u001b[0;34m=\u001b[0m \u001b[0m_win_equiv\u001b[0m\u001b[0;34m[\u001b[0m\u001b[0mwinstr\u001b[0m\u001b[0;34m]\u001b[0m\u001b[0;34m\u001b[0m\u001b[0m\n\u001b[1;32m   1689\u001b[0m         \u001b[0;32mexcept\u001b[0m \u001b[0mKeyError\u001b[0m\u001b[0;34m:\u001b[0m\u001b[0;34m\u001b[0m\u001b[0m\n\u001b[0;32m-> 1690\u001b[0;31m             \u001b[0;32mraise\u001b[0m \u001b[0mValueError\u001b[0m\u001b[0;34m(\u001b[0m\u001b[0;34m\"Unknown window type.\"\u001b[0m\u001b[0;34m)\u001b[0m\u001b[0;34m\u001b[0m\u001b[0m\n\u001b[0m\u001b[1;32m   1691\u001b[0m \u001b[0;34m\u001b[0m\u001b[0m\n\u001b[1;32m   1692\u001b[0m         \u001b[0mparams\u001b[0m \u001b[0;34m=\u001b[0m \u001b[0;34m(\u001b[0m\u001b[0mNx\u001b[0m\u001b[0;34m,\u001b[0m\u001b[0;34m)\u001b[0m \u001b[0;34m+\u001b[0m \u001b[0margs\u001b[0m \u001b[0;34m+\u001b[0m \u001b[0;34m(\u001b[0m\u001b[0msym\u001b[0m\u001b[0;34m,\u001b[0m\u001b[0;34m)\u001b[0m\u001b[0;34m\u001b[0m\u001b[0m\n",
      "\u001b[0;31mValueError\u001b[0m: Unknown window type."
     ]
    }
   ],
   "source": [
    "#Plotando as Densidades espectrais para o Subject_1- Periodograma tradicional e Método de Welch\n",
    "\n",
    "Oz_period = sig.periodogram(Oz_array_5hz[0], fs=256.,nfft=len(Oz_array_5hz[0]))\n",
    "Oz_welch = sig.welch(Oz_array_5hz[0], fs=256., window='hann', nperseg=350, nfft=512)\n",
    "#Oz_welch2 = sig.welch(Oz_array_5hz[0], fs=256., nperseg=350, noverlap=0.75,nfft=len(Oz_array_5hz[0]))\n",
    "\n",
    "plt.figure()\n",
    "plt.hold(True)\n",
    "plt.plot(Oz_period[0],Oz_period[1],'b',label='Periodograma')\n",
    "plt.plot(Oz_welch[0], Oz_welch[1],'r', label='Welch')\n",
    "#plt.plot(Oz_welch2[0], Oz_welch2[1], 'g', label='Welch')\n",
    "\n",
    "plt.legend()"
   ]
  },
  {
   "cell_type": "code",
   "execution_count": 37,
   "metadata": {
    "collapsed": false
   },
   "outputs": [],
   "source": [
    "# Pré-processamento: Filtragem do sinal Oz_array_5hz[0]. Filtro: FIR 2-50 Hz ordem 50\n",
    "\n",
    "fs = 256. \n",
    "f_norm = 2*np.pi / fs\n",
    "Nyq_freq = fs / 2.\n",
    "#filter_spec = [[wp1, wp2], [ws1, ws2]]\n",
    "'''\n",
    "wp = [2.*f_norm, 48.*f_norm]\n",
    "ws = [1.*f_norm, 50.*f_norm]\n",
    "'''\n",
    "#W = np.array([[0.05, 48.],[0.01, 50.]]) / Nyq_freq\n",
    "w = np.array([1, 50]) / Nyq_freq\n",
    "gpass = 1.\n",
    "gstop = 100.\n",
    "n = 100\n",
    "resp= sig.firwin(n, w, pass_zero=False, window='hann')\n",
    "\n",
    "a, h = sig.freqz(resp)\n",
    "\n",
    "\n",
    "plt.figure()\n",
    "plt.title('Resposta em frequência do filtro passa banda', fontsize=16)\n",
    "plt.xlabel('Frequência (Hz)', fontsize=16)\n",
    "plt.ylabel('Amplitude (dB)', fontsize=16)\n",
    "plt.plot((Nyq_freq/np.pi)*a,20*np.log10(np.abs(h)), 'b')\n",
    "plt.grid()\n",
    "\n"
   ]
  },
  {
   "cell_type": "code",
   "execution_count": 49,
   "metadata": {
    "collapsed": false
   },
   "outputs": [],
   "source": [
    "# Periodograma do sinal filtrado\n",
    "yfilt = sig.lfilter(resp, [1.], y)\n",
    "yfilt_period = sig.periodogram(yfilt, fs=256., nfft=len(Oz_array_5hz[0]))\n",
    "\n",
    "plt.plot(yfilt_period[0], yfilt_period[1])\n",
    "plt.grid()\n"
   ]
  },
  {
   "cell_type": "code",
   "execution_count": 39,
   "metadata": {
    "collapsed": false
   },
   "outputs": [
    {
     "data": {
      "text/plain": [
       "<matplotlib.legend.Legend at 0x7f4dee9c96a0>"
      ]
     },
     "execution_count": 39,
     "metadata": {},
     "output_type": "execute_result"
    }
   ],
   "source": [
    "# Sinal filtrado versus sinal não filtrado em função do tempo\n",
    "y = Oz_array_5hz[0]\n",
    "t = np.arange(len(y)) / fs\n",
    "\n",
    "plt.grid()\n",
    "plt.title('Sinais filtrado e não filtrado', fontsize = 16)\n",
    "plt.xlabel('tempo (s)', fontsize=16)\n",
    "plt.ylabel('Amplitude (V)', fontsize=16)\n",
    "plt.plot(t, y,'b',label='não filtrado')\n",
    "plt.plot(t, yfilt, 'r', label='filtrado')\n",
    "plt.legend()\n"
   ]
  },
  {
   "cell_type": "code",
   "execution_count": 41,
   "metadata": {
    "collapsed": false
   },
   "outputs": [
    {
     "data": {
      "text/plain": [
       "[<matplotlib.lines.Line2D at 0x7f4dec23cfd0>]"
      ]
     },
     "execution_count": 41,
     "metadata": {},
     "output_type": "execute_result"
    }
   ],
   "source": [
    "# Avaliando a PSD do sinal filtrado utilizando o periodograma e o método de Welch\n",
    "\n",
    "yfilt_welch = sig.welch(yfilt, fs=256., nperseg=500, noverlap=0.75, nfft=1024)\n",
    "plt.grid()\n",
    "plt.plot(yfilt_welch[0], yfilt_welch[1],'r')\n",
    "plt.plot(yfilt_period[0], yfilt_period[1],'g')\n"
   ]
  },
  {
   "cell_type": "code",
   "execution_count": 22,
   "metadata": {
    "collapsed": false
   },
   "outputs": [
    {
     "data": {
      "text/plain": [
       "4.8727660630379936e-11"
      ]
     },
     "execution_count": 22,
     "metadata": {},
     "output_type": "execute_result"
    }
   ],
   "source": [
    "max(yfilt_period[1])"
   ]
  },
  {
   "cell_type": "code",
   "execution_count": 28,
   "metadata": {
    "collapsed": true
   },
   "outputs": [],
   "source": [
    "f = ((Nyq_freq/np.pi)*a)"
   ]
  },
  {
   "cell_type": "code",
   "execution_count": null,
   "metadata": {
    "collapsed": true
   },
   "outputs": [],
   "source": [
    "print(f[])"
   ]
  },
  {
   "cell_type": "code",
   "execution_count": 35,
   "metadata": {
    "collapsed": false
   },
   "outputs": [
    {
     "data": {
      "text/plain": [
       "(array([], dtype=int64),)"
      ]
     },
     "execution_count": 35,
     "metadata": {},
     "output_type": "execute_result"
    }
   ],
   "source": [
    "np.where(20*np.log10(np.abs(h)) == -3)"
   ]
  }
 ],
 "metadata": {
  "anaconda-cloud": {},
  "kernelspec": {
   "display_name": "Python [conda root]",
   "language": "python",
   "name": "conda-root-py"
  },
  "language_info": {
   "codemirror_mode": {
    "name": "ipython",
    "version": 3
   },
   "file_extension": ".py",
   "mimetype": "text/x-python",
   "name": "python",
   "nbconvert_exporter": "python",
   "pygments_lexer": "ipython3",
   "version": "3.5.2"
  }
 },
 "nbformat": 4,
 "nbformat_minor": 1
}
