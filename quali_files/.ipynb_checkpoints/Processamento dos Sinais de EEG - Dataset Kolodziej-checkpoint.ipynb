{
 "cells": [
  {
   "cell_type": "markdown",
   "metadata": {},
   "source": [
    "# Processamento dos Sinais de EEG - Dataset: Kolodziej"
   ]
  },
  {
   "cell_type": "code",
   "execution_count": 1,
   "metadata": {
    "collapsed": true
   },
   "outputs": [],
   "source": [
    "import numpy as np\n",
    "import matplotlib.pyplot as plt\n",
    "import scipy.signal as sig\n",
    "from scipy.io import loadmat\n",
    "%matplotlib qt5"
   ]
  },
  {
   "cell_type": "markdown",
   "metadata": {},
   "source": [
    "Importar os arquivos .mat em arrays (separando por frequências)"
   ]
  },
  {
   "cell_type": "code",
   "execution_count": 2,
   "metadata": {
    "collapsed": false
   },
   "outputs": [],
   "source": [
    "info_array_5hz = []\n",
    "eeg_array_5hz = []\n",
    "for i in range(1,6):\n",
    "    info_array_5hz.append(loadmat('5Hz/S{}_5Hz.mat'.format(i)))\n",
    "    eeg_array_5hz.append(info_array_5hz[i-1]['X'])\n",
    "eeg_array_5hz = np.array(eeg_array_5hz)"
   ]
  },
  {
   "cell_type": "markdown",
   "metadata": {},
   "source": [
    "O array eeg_5hz possui shape na configuração (subject, time, channel)"
   ]
  },
  {
   "cell_type": "code",
   "execution_count": null,
   "metadata": {
    "collapsed": false
   },
   "outputs": [],
   "source": [
    "eeg_array_5hz.shape"
   ]
  },
  {
   "cell_type": "markdown",
   "metadata": {
    "collapsed": false
   },
   "source": [
    "Utilizaremos para processamento o canal Oz (index 14)"
   ]
  },
  {
   "cell_type": "code",
   "execution_count": 3,
   "metadata": {
    "collapsed": false
   },
   "outputs": [
    {
     "name": "stdout",
     "output_type": "stream",
     "text": [
      "(5, 7680)\n"
     ]
    }
   ],
   "source": [
    "Oz_array_5hz = []\n",
    "for i in range(5):\n",
    "    Oz_array_5hz.append(eeg_array_5hz[i,:,14])\n",
    "\n",
    "Oz_array_5hz = np.array(Oz_array_5hz)\n",
    "print(Oz_array_5hz.shape) # Configuração do shape: (subject, time)"
   ]
  },
  {
   "cell_type": "code",
   "execution_count": 464,
   "metadata": {
    "collapsed": false
   },
   "outputs": [],
   "source": [
    "# Definindo a função para gerar a DFT de uma sequência (visualização apenas no intervalo de interesse)\n",
    "\n",
    "def plotDFT(input_signal, sampling_frequency):\n",
    "    \"\"\"Plota a DFT de input_signal. O intervalo de visualização é apenas de 0 a pi. \n",
    "    Input arguments: \n",
    "    input_signal: Sequência de entrada \n",
    "    sampling_frequency: frequência de amostragem\n",
    "    \"\"\"\n",
    "    \n",
    "    N = len(input_signal)\n",
    "    T = 1. / sampling_frequency\n",
    "    xf = np.linspace(0.,1./(2.*T), N/2)\n",
    "    fft_input = np.fft.fft(input_signal)\n",
    "    \n",
    "    return plt.plot(xf, np.abs(fft_input[:N/2]))"
   ]
  },
  {
   "cell_type": "code",
   "execution_count": 466,
   "metadata": {
    "collapsed": false
   },
   "outputs": [
    {
     "data": {
      "text/plain": [
       "<matplotlib.legend.Legend at 0x7f2c7e5e0e80>"
      ]
     },
     "execution_count": 466,
     "metadata": {},
     "output_type": "execute_result"
    }
   ],
   "source": [
    "#Plotando as Densidades espectrais para o Subject_1- Periodograma tradicional e Método de Welch\n",
    "\n",
    "Oz_period = sig.periodogram(Oz_array_5hz[0], fs=256., nfft=len(Oz_array_5hz[0]))\n",
    "Oz_welch = sig.welch(Oz_array_5hz[0], fs=256., nperseg=350, nfft=512)\n",
    "#Oz_welch2 = sig.welch(Oz_array_5hz[0], fs=256., nperseg=350, noverlap=0.75,nfft=len(Oz_array_5hz[0]))\n",
    "\n",
    "\n",
    "plt.figure()\n",
    "plt.hold(True)\n",
    "plt.plot(Oz_period[0],Oz_period[1],'b',label='Periodograma')\n",
    "plt.plot(Oz_welch[0], Oz_welch[1],'r', label='Welch')\n",
    "#plt.plot(Oz_welch2[0], Oz_welch2[1], 'g', label='Welch')\n",
    "\n",
    "plt.legend()"
   ]
  },
  {
   "cell_type": "code",
   "execution_count": 467,
   "metadata": {
    "collapsed": false
   },
   "outputs": [],
   "source": [
    "# Pré-processamento: Filtragem do sinal Oz_array_5hz[0]. Filtro: FIR 2-50 Hz ordem 50\n",
    "\n",
    "fs = 256. \n",
    "f_norm = 2*np.pi / fs\n",
    "Nyq_freq = fs / 2.\n",
    "#filter_spec = [[wp1, wp2], [ws1, ws2]]\n",
    "'''\n",
    "wp = [2.*f_norm, 48.*f_norm]\n",
    "ws = [1.*f_norm, 50.*f_norm]\n",
    "'''\n",
    "#W = np.array([[0.05, 48.],[0.01, 50.]]) / Nyq_freq\n",
    "w = np.array([2, 50]) / Nyq_freq\n",
    "gpass = 1.\n",
    "gstop = 100.\n",
    "n = 50\n",
    "resp= sig.firwin(n, w, pass_zero=False, window='hann')\n",
    "\n",
    "a, h = sig.freqz(resp)\n",
    "\n",
    "\n",
    "plt.figure()\n",
    "plt.title('Resposta em frequência do filtro passa banda', fontsize=16)\n",
    "plt.xlabel('Frequência (Hz)', fontsize=16)\n",
    "plt.ylabel('Amplitude (dB)', fontsize=16)\n",
    "plt.semilogy((Nyq_freq/np.pi)*a,np.abs(h), 'b')\n",
    "plt.grid()\n",
    "\n"
   ]
  },
  {
   "cell_type": "code",
   "execution_count": 468,
   "metadata": {
    "collapsed": false
   },
   "outputs": [],
   "source": [
    "# Periodograma do sinal filtrado\n",
    "yfilt = sig.lfilter(resp, [1.], y)\n",
    "yfilt_period = sig.periodogram(yfilt, fs=256., nfft=len(Oz_array_5hz[0]))\n",
    "\n",
    "plt.plot(yfilt_period[0], yfilt_period[1])\n",
    "plt.grid()\n"
   ]
  },
  {
   "cell_type": "code",
   "execution_count": 428,
   "metadata": {
    "collapsed": false
   },
   "outputs": [
    {
     "data": {
      "text/plain": [
       "<matplotlib.legend.Legend at 0x7f2c942bf048>"
      ]
     },
     "execution_count": 428,
     "metadata": {},
     "output_type": "execute_result"
    }
   ],
   "source": [
    "# Sinal filtrado versus sinal não filtrado em função do tempo\n",
    "y = Oz_array_5hz[0]\n",
    "t = np.arange(len(y)) / fs\n",
    "\n",
    "plt.grid()\n",
    "plt.title('Sinais filtrado e não filtrado', fontsize = 16)\n",
    "plt.xlabel('tempo (s)', fontsize=16)\n",
    "plt.ylabel('Amplitude (V)', fontsize=16)\n",
    "plt.plot(t, y,'b',label='não filtrado')\n",
    "plt.plot(t, yfilt, 'r', label='filtrado')\n",
    "plt.legend()\n"
   ]
  },
  {
   "cell_type": "code",
   "execution_count": 458,
   "metadata": {
    "collapsed": false
   },
   "outputs": [
    {
     "data": {
      "text/plain": [
       "[<matplotlib.lines.Line2D at 0x7f2c8d734198>]"
      ]
     },
     "execution_count": 458,
     "metadata": {},
     "output_type": "execute_result"
    }
   ],
   "source": [
    "# Avaliando a PSD do sinal filtrado utilizando o periodograma e o método de Welch\n",
    "\n",
    "yfilt_welch = sig.welch(yfilt, fs=256., nperseg=500, noverlap=0.75, nfft=1024)\n",
    "plt.grid()\n",
    "plt.plot(yfilt_welch[0], yfilt_welch[1],'b')\n",
    "plt.plot(yfilt_period[0], yfilt_period[1],'g')"
   ]
  },
  {
   "cell_type": "code",
   "execution_count": 435,
   "metadata": {
    "collapsed": false
   },
   "outputs": [],
   "source": [
    "fig = plt.plot(t, y)"
   ]
  },
  {
   "cell_type": "code",
   "execution_count": 456,
   "metadata": {
    "collapsed": false
   },
   "outputs": [],
   "source": [
    "plt.hold()"
   ]
  }
 ],
 "metadata": {
  "anaconda-cloud": {},
  "kernelspec": {
   "display_name": "Python [conda root]",
   "language": "python",
   "name": "conda-root-py"
  },
  "language_info": {
   "codemirror_mode": {
    "name": "ipython",
    "version": 3
   },
   "file_extension": ".py",
   "mimetype": "text/x-python",
   "name": "python",
   "nbconvert_exporter": "python",
   "pygments_lexer": "ipython3",
   "version": "3.5.2"
  }
 },
 "nbformat": 4,
 "nbformat_minor": 1
}
